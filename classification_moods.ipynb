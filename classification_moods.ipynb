{
 "cells": [
  {
   "cell_type": "code",
   "execution_count": 6,
   "id": "a4794489-ecda-4df2-a29f-a4ab99e79ce6",
   "metadata": {},
   "outputs": [
    {
     "name": "stdout",
     "output_type": "stream",
     "text": [
      "                                          name                        album  \\\n",
      "0                                         1999                         1999   \n",
      "1                                           23                           23   \n",
      "2                                     9 Crimes                            9   \n",
      "3                               99 Luftballons               99 Luftballons   \n",
      "4  A Boy Brushed Red Living In Black And White  They're Only Chasing Safety   \n",
      "\n",
      "           artist                      id release_date  popularity  length  \\\n",
      "0          Prince  2H7PHVdQ3mXqEHXcvclTB0   1982-10-27          68  379266   \n",
      "1  Blonde Redhead  4HIwL9ii9CcXpTOTzMq0MP   2007-04-16          43  318800   \n",
      "2     Damien Rice  5GZEeowhvSieFDiR8fQ2im   2006-11-06          60  217946   \n",
      "3            Nena  6HA97v4wEGQ5TUClRM0XLc   1984-08-21           2  233000   \n",
      "4       Underoath  47IWLfIKOKhFnz1FUEUIkE   2004-01-01          60  268000   \n",
      "\n",
      "   danceability  acousticness  energy  instrumentalness  liveness  valence  \\\n",
      "0         0.866       0.13700   0.730          0.000000    0.0843    0.625   \n",
      "1         0.381       0.01890   0.832          0.196000    0.1530    0.166   \n",
      "2         0.346       0.91300   0.139          0.000077    0.0934    0.116   \n",
      "3         0.466       0.08900   0.438          0.000006    0.1130    0.587   \n",
      "4         0.419       0.00171   0.932          0.000000    0.1370    0.445   \n",
      "\n",
      "   loudness  speechiness    tempo  key  time_signature       mood  \n",
      "0    -8.201       0.0767  118.523    5               4      Happy  \n",
      "1    -5.069       0.0492  120.255    8               4        Sad  \n",
      "2   -15.326       0.0321  136.168    0               4        Sad  \n",
      "3   -12.858       0.0608  193.100    4               4      Happy  \n",
      "4    -3.604       0.1060  169.881    1               4  Energetic  \n"
     ]
    }
   ],
   "source": [
    "#load the dataset\n",
    "import pandas as pd\n",
    "df=pd.read_csv(\"C:/Users/megha/OneDrive/Desktop/ML dataset/ml_internship_dataset/data_moods.csv\")\n",
    "print(df.head())"
   ]
  },
  {
   "cell_type": "code",
   "execution_count": 68,
   "id": "36934ceb-b2e4-4238-816d-b5b28a335dca",
   "metadata": {},
   "outputs": [
    {
     "name": "stdout",
     "output_type": "stream",
     "text": [
      "[2 3 1 0]\n"
     ]
    }
   ],
   "source": [
    "#our dataset contains irrelevant columns and catogical data(non-numerical features)\n",
    "df=df.drop(columns=['name','album','artist','id','release_date'],errors='ignore')#our code includes errors='ignore' in df.drop(), 
    which ensures that if any of the specified columns ('name', 'album', 'artist', 'id', 'release_date') do not exist in df, it won’t throw an error.\n#",
    "from sklearn.preprocessing import LabelEncoder\n",
    "print(df['mood'].unique())\n",
    "label=LabelEncoder()\n",
    "df['mood']=label.fit_transform(df['mood'])\n"
   ]
  },
  {
   "cell_type": "code",
   "execution_count": 22,
   "id": "310e0236-42f0-4a56-9c73-aa5a3b744fef",
   "metadata": {},
   "outputs": [
    {
     "name": "stdout",
     "output_type": "stream",
     "text": [
      "<class 'pandas.core.frame.DataFrame'>\n",
      "RangeIndex: 686 entries, 0 to 685\n",
      "Data columns (total 14 columns):\n",
      " #   Column            Non-Null Count  Dtype  \n",
      "---  ------            --------------  -----  \n",
      " 0   popularity        686 non-null    int64  \n",
      " 1   length            686 non-null    int64  \n",
      " 2   danceability      686 non-null    float64\n",
      " 3   acousticness      686 non-null    float64\n",
      " 4   energy            686 non-null    float64\n",
      " 5   instrumentalness  686 non-null    float64\n",
      " 6   liveness          686 non-null    float64\n",
      " 7   valence           686 non-null    float64\n",
      " 8   loudness          686 non-null    float64\n",
      " 9   speechiness       686 non-null    float64\n",
      " 10  tempo             686 non-null    float64\n",
      " 11  key               686 non-null    int64  \n",
      " 12  time_signature    686 non-null    int64  \n",
      " 13  mood              686 non-null    int64  \n",
      "dtypes: float64(9), int64(5)\n",
      "memory usage: 75.2 KB\n",
      "     popularity  length  danceability  acousticness  energy  instrumentalness  \\\n",
      "0            68  379266         0.866       0.13700  0.7300          0.000000   \n",
      "1            43  318800         0.381       0.01890  0.8320          0.196000   \n",
      "2            60  217946         0.346       0.91300  0.1390          0.000077   \n",
      "3             2  233000         0.466       0.08900  0.4380          0.000006   \n",
      "4            60  268000         0.419       0.00171  0.9320          0.000000   \n",
      "..          ...     ...           ...           ...     ...               ...   \n",
      "681          36  123066         0.402       0.96100  0.2360          0.919000   \n",
      "682           5  435080         0.452       0.75700  0.5150          0.120000   \n",
      "683          87  169265         0.642       0.78600  0.3740          0.000000   \n",
      "684          76  219146         0.561       0.91300  0.0848          0.000026   \n",
      "685          41  186331         0.377       0.99400  0.0156          0.881000   \n",
      "\n",
      "     liveness  valence  loudness  speechiness    tempo  key  time_signature  \n",
      "0      0.0843   0.6250    -8.201       0.0767  118.523    5               4  \n",
      "1      0.1530   0.1660    -5.069       0.0492  120.255    8               4  \n",
      "2      0.0934   0.1160   -15.326       0.0321  136.168    0               4  \n",
      "3      0.1130   0.5870   -12.858       0.0608  193.100    4               4  \n",
      "4      0.1370   0.4450    -3.604       0.1060  169.881    1               4  \n",
      "..        ...      ...       ...          ...      ...  ...             ...  \n",
      "681    0.0921   0.1460   -20.615       0.0603  129.736    0               3  \n",
      "682    0.1400   0.1910    -7.351       0.0255   80.537   11               4  \n",
      "683    0.0906   0.0799    -9.386       0.0545  124.099    4               4  \n",
      "684    0.1120   0.2060   -15.099       0.0404  102.128    2               4  \n",
      "685    0.0991   0.0804   -28.435       0.0397  140.179    0               4  \n",
      "\n",
      "[686 rows x 13 columns] 0      2\n",
      "1      3\n",
      "2      3\n",
      "3      2\n",
      "4      1\n",
      "      ..\n",
      "681    0\n",
      "682    3\n",
      "683    3\n",
      "684    3\n",
      "685    0\n",
      "Name: mood, Length: 686, dtype: int64\n"
     ]
    }
   ],
   "source": [
    "#separete dataset into features and labels\n",
    "df.info()\n",
    "x,y=df.iloc[:,0:-1],df.iloc[:,-1]\n",
    "print(x,y)"
   ]
  },
  {
   "cell_type": "code",
   "execution_count": 23,
   "id": "9146f142-8b5b-4bfe-8ecb-4b7c338bdff6",
   "metadata": {},
   "outputs": [],
   "source": [
    "#split the data into train and test\n",
    "from sklearn.model_selection import train_test_split\n",
    "a,b,c,d=train_test_split(x,y,test_size=0.2,random_state=42)"
   ]
  },
  {
   "cell_type": "code",
   "execution_count": 59,
   "id": "1d6335f1-5526-4fc4-ad37-0ca4760fd936",
   "metadata": {},
   "outputs": [
    {
     "name": "stdout",
     "output_type": "stream",
     "text": [
      "0.8333333333333334\n"
     ]
    }
   ],
   "source": [
    "#train the model\n",
    "from sklearn.ensemble import RandomForestClassifier\n",
    "model=RandomForestClassifier(max_depth=20)\n",
    "model.fit(a,c)\n",
    "print(model.score(b,d))"
   ]
  },
  {
   "cell_type": "code",
   "execution_count": 75,
   "id": "f02fac8c-9221-4911-8926-b02115711006",
   "metadata": {},
   "outputs": [
    {
     "name": "stdout",
     "output_type": "stream",
     "text": [
      "confusion matrix [[40  0  0  1]\n",
      " [ 0 25  7  0]\n",
      " [ 0 11 13  1]\n",
      " [ 0  0  3 37]]\n",
      "precision 0.8355172098083251\n",
      "recall 0.8333333333333334\n"
     ]
    }
   ],
   "source": [
    "#evaluation metrics\n",
    "from sklearn.metrics import confusion_matrix,accuracy_score,precision_score,recall_score,f1_score\n",
    "y_pre=model.predict(b)\n",
    "cm=confusion_matrix(d,y_pre)\n",
    "pre=precision_score(d,y_pre,average=\"weighted\")\n",
    "re=recall_score(d,y_pre,average=\"weighted\")\n",
    "print(\"confusion matrix\",cm)\n",
    "print(\"precision\",pre)\n",
    "print(\"recall\",re)"
   ]
  },
  {
   "cell_type": "code",
   "execution_count": 74,
   "id": "14289faf-22ae-4326-a05d-da07fa5afb6c",
   "metadata": {},
   "outputs": [
    {
     "name": "stdout",
     "output_type": "stream",
     "text": [
      "calm\n"
     ]
    }
   ],
   "source": [
    "x1=model.predict(df.head(7).iloc[:,:-1])\n",
    "x=x1[6]\n",
    "if(x==0):\n",
    "    print(\"calm\")\n",
    "elif(x==1):\n",
    "    print(\"energetic\")\n",
    "elif(x==2):\n",
    "    print(\"happy\")\n",
    "else:\n",
    "    print(\"sad\")"
   ]
  }
 ],
 "metadata": {
  "kernelspec": {
   "display_name": "Python 3 (ipykernel)",
   "language": "python",
   "name": "python3"
  },
  "language_info": {
   "codemirror_mode": {
    "name": "ipython",
    "version": 3
   },
   "file_extension": ".py",
   "mimetype": "text/x-python",
   "name": "python",
   "nbconvert_exporter": "python",
   "pygments_lexer": "ipython3",
   "version": "3.13.1"
  }
 },
 "nbformat": 4,
 "nbformat_minor": 5
}
